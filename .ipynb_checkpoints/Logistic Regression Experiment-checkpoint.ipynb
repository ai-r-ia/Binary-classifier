{
 "cells": [
  {
   "cell_type": "code",
   "execution_count": 2,
   "id": "f707b0df",
   "metadata": {},
   "outputs": [],
   "source": [
    "import numpy as np\n",
    "import matplotlib.pyplot as plt\n",
    "import h5py\n",
    "import scipy\n",
    "from PIL import Image\n",
    "from scipy import ndimage\n"
   ]
  },
  {
   "cell_type": "code",
   "execution_count": 3,
   "id": "e48b2784",
   "metadata": {},
   "outputs": [],
   "source": [
    "def load_dataset():\n",
    "    with h5py.File('datasets\\\\train_catvnoncat.h5', \"r\") as train_dataset:\n",
    "        train_set_x_orig = np.array(train_dataset[\"train_set_x\"][:])\n",
    "        train_set_y_orig = np.array(train_dataset[\"train_set_y\"][:])\n",
    "\n",
    "    with h5py.File('datasets\\\\test_catvnoncat.h5', \"r\") as test_dataset:\n",
    "        test_set_x_orig = np.array(test_dataset[\"test_set_x\"][:])\n",
    "        test_set_y_orig = np.array(test_dataset[\"test_set_y\"][:])\n",
    "        classes = np.array(test_dataset[\"list_classes\"][:])\n",
    "\n",
    "    train_set_y_orig = train_set_y_orig.reshape((1, train_set_y_orig.shape[0]))\n",
    "    test_set_y_orig = test_set_y_orig.reshape((1, test_set_y_orig.shape[0]))\n",
    "\n",
    "    return train_set_x_orig, train_set_y_orig, test_set_x_orig, test_set_y_orig, classes"
   ]
  },
  {
   "cell_type": "code",
   "execution_count": 5,
   "id": "08259ad7",
   "metadata": {},
   "outputs": [],
   "source": [
    "train_set_x_orig, train_set_y, test_set_x_orig, test_set_y, classes = load_dataset()"
   ]
  },
  {
   "cell_type": "code",
   "execution_count": 6,
   "id": "27b23279",
   "metadata": {},
   "outputs": [
    {
     "name": "stdout",
     "output_type": "stream",
     "text": [
      "y = [1], it's a 'cat' picture.\n"
     ]
    },
    {
     "data": {
      "image/png": "[encoded data removed]",
      "text/plain": [
       "<Figure size 432x288 with 1 Axes>"
      ]
     },
     "metadata": {
      "needs_background": "light"
     },
     "output_type": "display_data"
    }
   ],
   "source": [
    "index = 200\n",
    "plt.imshow(train_set_x_orig[index])\n",
    "print (\"y = \" + str(train_set_y[:, index]) + \", it's a '\" + classes[np.squeeze(train_set_y[:, index])].decode(\"utf-8\") +  \"' picture.\")"
   ]
  },
  {
   "cell_type": "code",
   "execution_count": null,
   "id": "b46d22b8",
   "metadata": {},
   "outputs": [],
   "source": [
    "train_set_x_orig.shape"
   ]
  },
  {
   "cell_type": "code",
   "execution_count": null,
   "id": "10f0b697",
   "metadata": {},
   "outputs": [],
   "source": [
    "m_train = train_set_x_orig.shape[0]\n",
    "m_test = test_set_x_orig.shape[0]\n",
    "num_px = train_set_x_orig.shape[1]\n",
    "\n",
    "train_set_x_flatten = train_set_x_orig.reshape(train_set_x_orig.shape[0], -1).T\n",
    "test_set_x_flatten = test_set_x_orig.reshape(test_set_x_orig.shape[0], -1).T\n",
    "\n",
    "train_set_x = train_set_x_flatten/255.\n",
    "test_set_x = test_set_x_flatten/255.\n"
   ]
  },
  {
   "cell_type": "code",
   "execution_count": null,
   "id": "01ce0d64",
   "metadata": {},
   "outputs": [],
   "source": [
    "def sigmoid(z):\n",
    "    A = 1./(1+np.exp(-z))\n",
    "    return A"
   ]
  },
  {
   "cell_type": "code",
   "execution_count": null,
   "id": "2c2a935a",
   "metadata": {},
   "outputs": [],
   "source": [
    "def initialization(f):\n",
    "    w= np.zeros((f, 1))\n",
    "    b=0\n",
    "    assert(w.shape == (f, 1))\n",
    "    assert(isinstance(b, float) or isinstance(b, int))\n",
    "    return w,b"
   ]
  },
  {
   "cell_type": "code",
   "execution_count": null,
   "id": "164d8f48",
   "metadata": {},
   "outputs": [],
   "source": [
    "def propagate(w,b,x,y):\n",
    "    try:\n",
    "        m = x.shape[1]\n",
    "        A=sigmoid(np.dot(w.T,x)+b)\n",
    "        J=(-1/(m))*(np.sum(y*np.log(A)+(1-y)*np.log(1-A)))\n",
    "\n",
    "        dJw=(np.dot(x, (A - y).T))/ (m)\n",
    "        dJb=(np.sum(A-y))/m\n",
    "    except:\n",
    "        print(A)\n",
    "    \n",
    "    assert(dJw.shape == w.shape)\n",
    "    assert(dJb.dtype == float)\n",
    "    J = np.squeeze(J)\n",
    "    assert(J.shape == ())\n",
    "    grads={\"dJw\":dJw,\n",
    "          \"dJb\":dJb}\n",
    "    return grads,J"
   ]
  },
  {
   "cell_type": "code",
   "execution_count": null,
   "id": "5007efab",
   "metadata": {},
   "outputs": [],
   "source": [
    "def optimize(w,b,x,y,r,num_iterations,print_cost=False):\n",
    "    costs = []\n",
    "    \n",
    "    for i in range(num_iterations):\n",
    "        grads, J = propagate(w, b, x, y)\n",
    "        dJw = grads[\"dJw\"]\n",
    "        dJb = grads[\"dJb\"]\n",
    "        \n",
    "        w = w - r * dJw\n",
    "        b = b - r * dJb\n",
    "\n",
    "        if i % 100 == 0:\n",
    "            costs.append(J)\n",
    "        \n",
    "        if print_cost and i % 100 == 0:\n",
    "            print (\"Cost after iteration %i: %f\" %(i, J))\n",
    "    \n",
    "    params = {\"w\": w,\n",
    "              \"b\": b}\n",
    "    \n",
    "    grads = {\"dJw\": dJw,\n",
    "             \"dJb\": dJb}\n",
    "    \n",
    "    return params, grads, costs"
   ]
  },
  {
   "cell_type": "code",
   "execution_count": null,
   "id": "af132988",
   "metadata": {},
   "outputs": [],
   "source": [
    "def predict(w,b,x):\n",
    "    m = x.shape[1]\n",
    "    Y_prediction = np.zeros((1,m))\n",
    "    w = w.reshape(x.shape[0], 1)              #??\n",
    "    A=sigmoid(np.dot(w.T,x)+b)\n",
    "    for i in range(0,m):\n",
    "        if A[0,i] > 0.5:\n",
    "            Y_prediction[0,i] = 1  \n",
    "        else:\n",
    "            Y_prediction[0,i]= 0\n",
    "    assert(Y_prediction.shape == (1, m))\n",
    "    return Y_prediction"
   ]
  },
  {
   "cell_type": "code",
   "execution_count": null,
   "id": "4509c75d",
   "metadata": {},
   "outputs": [],
   "source": [
    "def model(x_train, y_train, x_test, y_test,r = 0.5,num_iterations = 3, print_cost = False):\n",
    "    w,b=initialization(x_train.shape[0])\n",
    "    params, grads, costs = optimize(w,b,x_train,y_train,r,num_iterations,print_cost)\n",
    "    w=params[\"w\"]\n",
    "    b=params[\"b\"]\n",
    "    y_prediction_test=predict(w,b,x_test)              #??\n",
    "    y_prediction_train=predict(w,b,x_train)\n",
    "    \n",
    "    print(\"train accuracy: {} %\".format(100 - np.mean(np.abs(y_prediction_train - y_train)) * 100))\n",
    "    print(\"test accuracy: {} %\".format(100 - np.mean(np.abs(y_prediction_test - y_test)) * 100))\n",
    "    \n",
    "    d={\"costs\":costs,\n",
    "      \"y_prediction_test\": y_prediction_test,\n",
    "      \"y_prediction_train\": y_prediction_train,\n",
    "      \"w\":w,\n",
    "      \"b\":b,\n",
    "      \"r\":r,\n",
    "      \"num_iterations\":num_iterations}\n",
    "    return d"
   ]
  },
  {
   "cell_type": "code",
   "execution_count": null,
   "id": "3c497bec",
   "metadata": {},
   "outputs": [],
   "source": [
    "d = model(train_set_x, train_set_y, test_set_x, test_set_y, num_iterations = 2000, r = 0.005, print_cost = True)"
   ]
  },
  {
   "cell_type": "code",
   "execution_count": null,
   "id": "8f6d6f65",
   "metadata": {},
   "outputs": [],
   "source": [
    "costs = np.squeeze(d['costs'])\n",
    "plt.plot(costs)\n",
    "plt.ylabel('cost')\n",
    "plt.xlabel('iterations (per hundreds)')\n",
    "plt.title(\"Learning rate =\" + str(d[\"r\"]))\n",
    "plt.show()"
   ]
  },
  {
   "cell_type": "code",
   "execution_count": null,
   "id": "c5413730",
   "metadata": {},
   "outputs": [],
   "source": [
    "index = 1\n",
    "plt.imshow(test_set_x[:,index].reshape((num_px, num_px, 3)))\n",
    "print(test_set_y)\n",
    "print(d[\"y_prediction_test\"])\n",
    "\n",
    "print (\"y = \" + str(test_set_y[0][index]) + \", you predicted that it is a \\\"\" + classes[d[\"y_prediction_test\"][0][index]].decode(\"utf-8\") +  \"\\\" picture.\")"
   ]
  },
  {
   "cell_type": "code",
   "execution_count": null,
   "id": "a847fc64",
   "metadata": {},
   "outputs": [],
   "source": []
  },
  {
   "cell_type": "code",
   "execution_count": null,
   "id": "7bafe264",
   "metadata": {},
   "outputs": [],
   "source": []
  }
 ],
 "metadata": {
  "kernelspec": {
   "display_name": "Python 3",
   "language": "python",
   "name": "python3"
  },
  "language_info": {
   "codemirror_mode": {
    "name": "ipython",
    "version": 3
   },
   "file_extension": ".py",
   "mimetype": "text/x-python",
   "name": "python",
   "nbconvert_exporter": "python",
   "pygments_lexer": "ipython3",
   "version": "3.8.8"
  }
 },
 "nbformat": 4,
 "nbformat_minor": 5
}
