{
  "nbformat": 4,
  "nbformat_minor": 0,
  "metadata": {
    "colab": {
      "name": "Cat Classifier.ipynb",
      "provenance": []
    },
    "kernelspec": {
      "name": "python3",
      "display_name": "Python 3"
    },
    "language_info": {
      "name": "python"
    }
  },
  "cells": [
    {
      "cell_type": "code",
      "execution_count": 31,
      "metadata": {
        "id": "muU9ujV-oVwb"
      },
      "outputs": [],
      "source": [
        "import numpy as np\n",
        "import matplotlib.pyplot as plt\n",
        "import h5py\n",
        "import scipy\n",
        "import pandas as pd\n",
        "from PIL import Image\n",
        "from scipy import ndimage\n",
        "import tensorflow as tf\n",
        "from __future__ import absolute_import, division, print_function\n"
      ]
    },
    {
      "cell_type": "code",
      "source": [
        "from google.colab import drive\n",
        "drive.mount('/content/drive')"
      ],
      "metadata": {
        "colab": {
          "base_uri": "https://localhost:8080/"
        },
        "id": "cjkGDgkdo2xW",
        "outputId": "c3c62f2d-4703-4d59-8276-6bba0d67d02b"
      },
      "execution_count": 32,
      "outputs": [
        {
          "output_type": "stream",
          "name": "stdout",
          "text": [
            "Drive already mounted at /content/drive; to attempt to forcibly remount, call drive.mount(\"/content/drive\", force_remount=True).\n"
          ]
        }
      ]
    },
    {
      "cell_type": "code",
      "source": [
        "%ls /content/drive/MyDrive/datasets\n",
        "%cd /content/drive/MyDrive/datasets"
      ],
      "metadata": {
        "id": "PG8UO0oCpINP",
        "colab": {
          "base_uri": "https://localhost:8080/"
        },
        "outputId": "c3ae4fe7-dc92-45b7-d9a6-996c4fe3c3d4"
      },
      "execution_count": 33,
      "outputs": [
        {
          "output_type": "stream",
          "name": "stdout",
          "text": [
            "test_catvnoncat.h5  train_catvnoncat.h5\n",
            "/content/drive/MyDrive/datasets\n"
          ]
        }
      ]
    },
    {
      "cell_type": "code",
      "source": [
        "def load_dataset():\n",
        "    with h5py.File('train_catvnoncat.h5', \"r\") as train_dataset:\n",
        "        train_set_x_orig = np.array(train_dataset[\"train_set_x\"][:])\n",
        "        train_set_y_orig = np.array(train_dataset[\"train_set_y\"][:])\n",
        "\n",
        "    with h5py.File('test_catvnoncat.h5', \"r\") as test_dataset:\n",
        "        test_set_x_orig = np.array(test_dataset[\"test_set_x\"][:])\n",
        "        test_set_y_orig = np.array(test_dataset[\"test_set_y\"][:])\n",
        "        classes = np.array(test_dataset[\"list_classes\"][:])\n",
        "\n",
        "    train_set_y_orig = train_set_y_orig.reshape((1, train_set_y_orig.shape[0]))\n",
        "    test_set_y_orig = test_set_y_orig.reshape((1, test_set_y_orig.shape[0]))\n",
        "\n",
        "    return train_set_x_orig, train_set_y_orig, test_set_x_orig, test_set_y_orig, classes"
      ],
      "metadata": {
        "id": "7WzoA42opIP2"
      },
      "execution_count": 34,
      "outputs": []
    },
    {
      "cell_type": "code",
      "source": [
        "train_set_x_orig, train_set_y, test_set_x_orig, test_set_y, classes = load_dataset()"
      ],
      "metadata": {
        "id": "1dCkx1aupISN"
      },
      "execution_count": 35,
      "outputs": []
    },
    {
      "cell_type": "code",
      "source": [
        "x_train = tf.convert_to_tensor(train_set_x_orig, np.float32)\n",
        "y_train = tf.convert_to_tensor(train_set_y.T, np.float32)\n",
        "x_test = tf.convert_to_tensor(test_set_x_orig, np.float32)\n",
        "y_test = tf.convert_to_tensor(test_set_y.T, np.float32)"
      ],
      "metadata": {
        "id": "z3H9NXoe5fdX"
      },
      "execution_count": 49,
      "outputs": []
    },
    {
      "cell_type": "code",
      "source": [
        "train_data = tf.data.Dataset.from_tensor_slices((x_train, y_train))\n",
        "test_data = tf.data.Dataset.from_tensor_slices((x_test, y_test))"
      ],
      "metadata": {
        "id": "ucjWoUhZ4PWI"
      },
      "execution_count": 50,
      "outputs": []
    },
    {
      "cell_type": "code",
      "source": [
        "model =  tf.keras.Sequential([\n",
        "           tf.keras.layers.Flatten(),\n",
        "  tf.keras.layers.Dense(64, activation='relu'),\n",
        "            tf.keras.layers.Dense(1, activation='sigmoid'),])"
      ],
      "metadata": {
        "id": "Af2YTFJc4P_G"
      },
      "execution_count": 71,
      "outputs": []
    },
    {
      "cell_type": "code",
      "source": [
        "model.compile(loss='binary_crossentropy', optimizer=tf.keras.optimizers.Adam(lr=0.001),\n",
        "              metrics=['binary_accuracy'], )\n",
        "history = model.fit(x_train,y_train, epochs=20)"
      ],
      "metadata": {
        "colab": {
          "base_uri": "https://localhost:8080/"
        },
        "id": "tX2eR_5d7hs7",
        "outputId": "57b6eea2-5f02-4d47-9cd9-f6ac7605ad59"
      },
      "execution_count": 72,
      "outputs": [
        {
          "output_type": "stream",
          "name": "stderr",
          "text": [
            "/usr/local/lib/python3.7/dist-packages/keras/optimizer_v2/adam.py:105: UserWarning: The `lr` argument is deprecated, use `learning_rate` instead.\n",
            "  super(Adam, self).__init__(name, **kwargs)\n"
          ]
        },
        {
          "output_type": "stream",
          "name": "stdout",
          "text": [
            "Epoch 1/20\n",
            "7/7 [==============================] - 1s 10ms/step - loss: 785.7308 - binary_accuracy: 0.4785\n",
            "Epoch 2/20\n",
            "7/7 [==============================] - 0s 9ms/step - loss: 80.7711 - binary_accuracy: 0.6316\n",
            "Epoch 3/20\n",
            "7/7 [==============================] - 0s 12ms/step - loss: 54.4141 - binary_accuracy: 0.5837\n",
            "Epoch 4/20\n",
            "7/7 [==============================] - 0s 9ms/step - loss: 29.1907 - binary_accuracy: 0.6172\n",
            "Epoch 5/20\n",
            "7/7 [==============================] - 0s 10ms/step - loss: 7.7631 - binary_accuracy: 0.7464\n",
            "Epoch 6/20\n",
            "7/7 [==============================] - 0s 11ms/step - loss: 7.5543 - binary_accuracy: 0.7033\n",
            "Epoch 7/20\n",
            "7/7 [==============================] - 0s 10ms/step - loss: 6.2458 - binary_accuracy: 0.7656\n",
            "Epoch 8/20\n",
            "7/7 [==============================] - 0s 10ms/step - loss: 6.7792 - binary_accuracy: 0.7129\n",
            "Epoch 9/20\n",
            "7/7 [==============================] - 0s 11ms/step - loss: 4.5673 - binary_accuracy: 0.7990\n",
            "Epoch 10/20\n",
            "7/7 [==============================] - 0s 13ms/step - loss: 3.3104 - binary_accuracy: 0.8086\n",
            "Epoch 11/20\n",
            "7/7 [==============================] - 0s 10ms/step - loss: 4.5564 - binary_accuracy: 0.7560\n",
            "Epoch 12/20\n",
            "7/7 [==============================] - 0s 12ms/step - loss: 7.5855 - binary_accuracy: 0.7321\n",
            "Epoch 13/20\n",
            "7/7 [==============================] - 0s 10ms/step - loss: 3.2003 - binary_accuracy: 0.8134\n",
            "Epoch 14/20\n",
            "7/7 [==============================] - 0s 10ms/step - loss: 9.9709 - binary_accuracy: 0.6986\n",
            "Epoch 15/20\n",
            "7/7 [==============================] - 0s 10ms/step - loss: 11.5928 - binary_accuracy: 0.7081\n",
            "Epoch 16/20\n",
            "7/7 [==============================] - 0s 12ms/step - loss: 5.7758 - binary_accuracy: 0.7751\n",
            "Epoch 17/20\n",
            "7/7 [==============================] - 0s 10ms/step - loss: 1.3186 - binary_accuracy: 0.8900\n",
            "Epoch 18/20\n",
            "7/7 [==============================] - 0s 10ms/step - loss: 2.0978 - binary_accuracy: 0.8517\n",
            "Epoch 19/20\n",
            "7/7 [==============================] - 0s 10ms/step - loss: 1.8462 - binary_accuracy: 0.8612\n",
            "Epoch 20/20\n",
            "7/7 [==============================] - 0s 10ms/step - loss: 3.4743 - binary_accuracy: 0.8373\n"
          ]
        }
      ]
    }
  ]
}